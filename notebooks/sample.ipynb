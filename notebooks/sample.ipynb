{
 "cells": [
  {
   "cell_type": "code",
   "execution_count": 1,
   "id": "initial_id",
   "metadata": {
    "collapsed": true,
    "ExecuteTime": {
     "end_time": "2024-01-05T15:52:02.122532Z",
     "start_time": "2024-01-05T15:52:01.412616Z"
    }
   },
   "outputs": [],
   "source": [
    "from pathlib import Path\n",
    "\n",
    "import matplotlib.pyplot as plt\n",
    "import numpy as np\n",
    "import pandas as pd"
   ]
  },
  {
   "cell_type": "code",
   "outputs": [],
   "source": [
    "# Data Folder\n",
    "data_dir: Path = Path.cwd().parent.joinpath(\"data\", \"01_raw\")"
   ],
   "metadata": {
    "collapsed": false,
    "ExecuteTime": {
     "end_time": "2024-01-05T15:53:40.070577Z",
     "start_time": "2024-01-05T15:53:40.064682Z"
    }
   },
   "id": "7e60b22178ef95c0",
   "execution_count": 4
  },
  {
   "cell_type": "code",
   "outputs": [],
   "source": [
    "college_data: pd.DataFrame = pd.read_csv(data_dir.joinpath(\"College.csv\"))"
   ],
   "metadata": {
    "collapsed": false,
    "ExecuteTime": {
     "end_time": "2024-01-05T15:53:40.783500Z",
     "start_time": "2024-01-05T15:53:40.770079Z"
    }
   },
   "id": "be93870b1875f847",
   "execution_count": 5
  },
  {
   "cell_type": "markdown",
   "source": [
    "## Exploratory Analisis"
   ],
   "metadata": {
    "collapsed": false
   },
   "id": "5e1233836f28afc5"
  },
  {
   "cell_type": "code",
   "outputs": [
    {
     "data": {
      "text/plain": "                     Unnamed: 0 Private  Apps  Accept  Enroll  Top10perc  \\\n0  Abilene Christian University     Yes  1660    1232     721         23   \n1            Adelphi University     Yes  2186    1924     512         16   \n2                Adrian College     Yes  1428    1097     336         22   \n3           Agnes Scott College     Yes   417     349     137         60   \n4     Alaska Pacific University     Yes   193     146      55         16   \n\n   Top25perc  F.Undergrad  P.Undergrad  Outstate  Room.Board  Books  Personal  \\\n0         52         2885          537      7440        3300    450      2200   \n1         29         2683         1227     12280        6450    750      1500   \n2         50         1036           99     11250        3750    400      1165   \n3         89          510           63     12960        5450    450       875   \n4         44          249          869      7560        4120    800      1500   \n\n   PhD  Terminal  S.F.Ratio  perc.alumni  Expend  Grad.Rate  \n0   70        78       18.1           12    7041         60  \n1   29        30       12.2           16   10527         56  \n2   53        66       12.9           30    8735         54  \n3   92        97        7.7           37   19016         59  \n4   76        72       11.9            2   10922         15  ",
      "text/html": "<div>\n<style scoped>\n    .dataframe tbody tr th:only-of-type {\n        vertical-align: middle;\n    }\n\n    .dataframe tbody tr th {\n        vertical-align: top;\n    }\n\n    .dataframe thead th {\n        text-align: right;\n    }\n</style>\n<table border=\"1\" class=\"dataframe\">\n  <thead>\n    <tr style=\"text-align: right;\">\n      <th></th>\n      <th>Unnamed: 0</th>\n      <th>Private</th>\n      <th>Apps</th>\n      <th>Accept</th>\n      <th>Enroll</th>\n      <th>Top10perc</th>\n      <th>Top25perc</th>\n      <th>F.Undergrad</th>\n      <th>P.Undergrad</th>\n      <th>Outstate</th>\n      <th>Room.Board</th>\n      <th>Books</th>\n      <th>Personal</th>\n      <th>PhD</th>\n      <th>Terminal</th>\n      <th>S.F.Ratio</th>\n      <th>perc.alumni</th>\n      <th>Expend</th>\n      <th>Grad.Rate</th>\n    </tr>\n  </thead>\n  <tbody>\n    <tr>\n      <th>0</th>\n      <td>Abilene Christian University</td>\n      <td>Yes</td>\n      <td>1660</td>\n      <td>1232</td>\n      <td>721</td>\n      <td>23</td>\n      <td>52</td>\n      <td>2885</td>\n      <td>537</td>\n      <td>7440</td>\n      <td>3300</td>\n      <td>450</td>\n      <td>2200</td>\n      <td>70</td>\n      <td>78</td>\n      <td>18.1</td>\n      <td>12</td>\n      <td>7041</td>\n      <td>60</td>\n    </tr>\n    <tr>\n      <th>1</th>\n      <td>Adelphi University</td>\n      <td>Yes</td>\n      <td>2186</td>\n      <td>1924</td>\n      <td>512</td>\n      <td>16</td>\n      <td>29</td>\n      <td>2683</td>\n      <td>1227</td>\n      <td>12280</td>\n      <td>6450</td>\n      <td>750</td>\n      <td>1500</td>\n      <td>29</td>\n      <td>30</td>\n      <td>12.2</td>\n      <td>16</td>\n      <td>10527</td>\n      <td>56</td>\n    </tr>\n    <tr>\n      <th>2</th>\n      <td>Adrian College</td>\n      <td>Yes</td>\n      <td>1428</td>\n      <td>1097</td>\n      <td>336</td>\n      <td>22</td>\n      <td>50</td>\n      <td>1036</td>\n      <td>99</td>\n      <td>11250</td>\n      <td>3750</td>\n      <td>400</td>\n      <td>1165</td>\n      <td>53</td>\n      <td>66</td>\n      <td>12.9</td>\n      <td>30</td>\n      <td>8735</td>\n      <td>54</td>\n    </tr>\n    <tr>\n      <th>3</th>\n      <td>Agnes Scott College</td>\n      <td>Yes</td>\n      <td>417</td>\n      <td>349</td>\n      <td>137</td>\n      <td>60</td>\n      <td>89</td>\n      <td>510</td>\n      <td>63</td>\n      <td>12960</td>\n      <td>5450</td>\n      <td>450</td>\n      <td>875</td>\n      <td>92</td>\n      <td>97</td>\n      <td>7.7</td>\n      <td>37</td>\n      <td>19016</td>\n      <td>59</td>\n    </tr>\n    <tr>\n      <th>4</th>\n      <td>Alaska Pacific University</td>\n      <td>Yes</td>\n      <td>193</td>\n      <td>146</td>\n      <td>55</td>\n      <td>16</td>\n      <td>44</td>\n      <td>249</td>\n      <td>869</td>\n      <td>7560</td>\n      <td>4120</td>\n      <td>800</td>\n      <td>1500</td>\n      <td>76</td>\n      <td>72</td>\n      <td>11.9</td>\n      <td>2</td>\n      <td>10922</td>\n      <td>15</td>\n    </tr>\n  </tbody>\n</table>\n</div>"
     },
     "execution_count": 6,
     "metadata": {},
     "output_type": "execute_result"
    }
   ],
   "source": [
    "college_data.head()"
   ],
   "metadata": {
    "collapsed": false,
    "ExecuteTime": {
     "end_time": "2024-01-05T15:53:42.457087Z",
     "start_time": "2024-01-05T15:53:42.450700Z"
    }
   },
   "id": "ba5781573f3ec1a2",
   "execution_count": 6
  },
  {
   "cell_type": "code",
   "outputs": [
    {
     "name": "stdout",
     "output_type": "stream",
     "text": [
      "<class 'pandas.core.frame.DataFrame'>\n",
      "RangeIndex: 777 entries, 0 to 776\n",
      "Data columns (total 19 columns):\n",
      " #   Column       Non-Null Count  Dtype  \n",
      "---  ------       --------------  -----  \n",
      " 0   Unnamed: 0   777 non-null    object \n",
      " 1   Private      777 non-null    object \n",
      " 2   Apps         777 non-null    int64  \n",
      " 3   Accept       777 non-null    int64  \n",
      " 4   Enroll       777 non-null    int64  \n",
      " 5   Top10perc    777 non-null    int64  \n",
      " 6   Top25perc    777 non-null    int64  \n",
      " 7   F.Undergrad  777 non-null    int64  \n",
      " 8   P.Undergrad  777 non-null    int64  \n",
      " 9   Outstate     777 non-null    int64  \n",
      " 10  Room.Board   777 non-null    int64  \n",
      " 11  Books        777 non-null    int64  \n",
      " 12  Personal     777 non-null    int64  \n",
      " 13  PhD          777 non-null    int64  \n",
      " 14  Terminal     777 non-null    int64  \n",
      " 15  S.F.Ratio    777 non-null    float64\n",
      " 16  perc.alumni  777 non-null    int64  \n",
      " 17  Expend       777 non-null    int64  \n",
      " 18  Grad.Rate    777 non-null    int64  \n",
      "dtypes: float64(1), int64(16), object(2)\n",
      "memory usage: 115.5+ KB\n"
     ]
    }
   ],
   "source": [
    "college_data.info()"
   ],
   "metadata": {
    "collapsed": false,
    "ExecuteTime": {
     "end_time": "2024-01-05T15:55:36.233860Z",
     "start_time": "2024-01-05T15:55:36.228183Z"
    }
   },
   "id": "4f55ab82e23e07b2",
   "execution_count": 12
  },
  {
   "cell_type": "code",
   "outputs": [
    {
     "data": {
      "text/plain": "                         Unnamed: 0 Private   Apps  Accept  Enroll  Top10perc  \\\n0      Abilene Christian University     Yes   1660    1232     721         23   \n1                Adelphi University     Yes   2186    1924     512         16   \n2                    Adrian College     Yes   1428    1097     336         22   \n3               Agnes Scott College     Yes    417     349     137         60   \n4         Alaska Pacific University     Yes    193     146      55         16   \n..                              ...     ...    ...     ...     ...        ...   \n772         Worcester State College      No   2197    1515     543          4   \n773               Xavier University     Yes   1959    1805     695         24   \n774  Xavier University of Louisiana     Yes   2097    1915     695         34   \n775                 Yale University     Yes  10705    2453    1317         95   \n776    York College of Pennsylvania     Yes   2989    1855     691         28   \n\n     Top25perc  F.Undergrad  P.Undergrad  Outstate  Room.Board  Books  \\\n0           52         2885          537      7440        3300    450   \n1           29         2683         1227     12280        6450    750   \n2           50         1036           99     11250        3750    400   \n3           89          510           63     12960        5450    450   \n4           44          249          869      7560        4120    800   \n..         ...          ...          ...       ...         ...    ...   \n772         26         3089         2029      6797        3900    500   \n773         47         2849         1107     11520        4960    600   \n774         61         2793          166      6900        4200    617   \n775         99         5217           83     19840        6510    630   \n776         63         2988         1726      4990        3560    500   \n\n     Personal  PhD  Terminal  S.F.Ratio  perc.alumni  Expend  Grad.Rate  \n0        2200   70        78       18.1           12    7041         60  \n1        1500   29        30       12.2           16   10527         56  \n2        1165   53        66       12.9           30    8735         54  \n3         875   92        97        7.7           37   19016         59  \n4        1500   76        72       11.9            2   10922         15  \n..        ...  ...       ...        ...          ...     ...        ...  \n772      1200   60        60       21.0           14    4469         40  \n773      1250   73        75       13.3           31    9189         83  \n774       781   67        75       14.4           20    8323         49  \n775      2115   96        96        5.8           49   40386         99  \n776      1250   75        75       18.1           28    4509         99  \n\n[777 rows x 19 columns]",
      "text/html": "<div>\n<style scoped>\n    .dataframe tbody tr th:only-of-type {\n        vertical-align: middle;\n    }\n\n    .dataframe tbody tr th {\n        vertical-align: top;\n    }\n\n    .dataframe thead th {\n        text-align: right;\n    }\n</style>\n<table border=\"1\" class=\"dataframe\">\n  <thead>\n    <tr style=\"text-align: right;\">\n      <th></th>\n      <th>Unnamed: 0</th>\n      <th>Private</th>\n      <th>Apps</th>\n      <th>Accept</th>\n      <th>Enroll</th>\n      <th>Top10perc</th>\n      <th>Top25perc</th>\n      <th>F.Undergrad</th>\n      <th>P.Undergrad</th>\n      <th>Outstate</th>\n      <th>Room.Board</th>\n      <th>Books</th>\n      <th>Personal</th>\n      <th>PhD</th>\n      <th>Terminal</th>\n      <th>S.F.Ratio</th>\n      <th>perc.alumni</th>\n      <th>Expend</th>\n      <th>Grad.Rate</th>\n    </tr>\n  </thead>\n  <tbody>\n    <tr>\n      <th>0</th>\n      <td>Abilene Christian University</td>\n      <td>Yes</td>\n      <td>1660</td>\n      <td>1232</td>\n      <td>721</td>\n      <td>23</td>\n      <td>52</td>\n      <td>2885</td>\n      <td>537</td>\n      <td>7440</td>\n      <td>3300</td>\n      <td>450</td>\n      <td>2200</td>\n      <td>70</td>\n      <td>78</td>\n      <td>18.1</td>\n      <td>12</td>\n      <td>7041</td>\n      <td>60</td>\n    </tr>\n    <tr>\n      <th>1</th>\n      <td>Adelphi University</td>\n      <td>Yes</td>\n      <td>2186</td>\n      <td>1924</td>\n      <td>512</td>\n      <td>16</td>\n      <td>29</td>\n      <td>2683</td>\n      <td>1227</td>\n      <td>12280</td>\n      <td>6450</td>\n      <td>750</td>\n      <td>1500</td>\n      <td>29</td>\n      <td>30</td>\n      <td>12.2</td>\n      <td>16</td>\n      <td>10527</td>\n      <td>56</td>\n    </tr>\n    <tr>\n      <th>2</th>\n      <td>Adrian College</td>\n      <td>Yes</td>\n      <td>1428</td>\n      <td>1097</td>\n      <td>336</td>\n      <td>22</td>\n      <td>50</td>\n      <td>1036</td>\n      <td>99</td>\n      <td>11250</td>\n      <td>3750</td>\n      <td>400</td>\n      <td>1165</td>\n      <td>53</td>\n      <td>66</td>\n      <td>12.9</td>\n      <td>30</td>\n      <td>8735</td>\n      <td>54</td>\n    </tr>\n    <tr>\n      <th>3</th>\n      <td>Agnes Scott College</td>\n      <td>Yes</td>\n      <td>417</td>\n      <td>349</td>\n      <td>137</td>\n      <td>60</td>\n      <td>89</td>\n      <td>510</td>\n      <td>63</td>\n      <td>12960</td>\n      <td>5450</td>\n      <td>450</td>\n      <td>875</td>\n      <td>92</td>\n      <td>97</td>\n      <td>7.7</td>\n      <td>37</td>\n      <td>19016</td>\n      <td>59</td>\n    </tr>\n    <tr>\n      <th>4</th>\n      <td>Alaska Pacific University</td>\n      <td>Yes</td>\n      <td>193</td>\n      <td>146</td>\n      <td>55</td>\n      <td>16</td>\n      <td>44</td>\n      <td>249</td>\n      <td>869</td>\n      <td>7560</td>\n      <td>4120</td>\n      <td>800</td>\n      <td>1500</td>\n      <td>76</td>\n      <td>72</td>\n      <td>11.9</td>\n      <td>2</td>\n      <td>10922</td>\n      <td>15</td>\n    </tr>\n    <tr>\n      <th>...</th>\n      <td>...</td>\n      <td>...</td>\n      <td>...</td>\n      <td>...</td>\n      <td>...</td>\n      <td>...</td>\n      <td>...</td>\n      <td>...</td>\n      <td>...</td>\n      <td>...</td>\n      <td>...</td>\n      <td>...</td>\n      <td>...</td>\n      <td>...</td>\n      <td>...</td>\n      <td>...</td>\n      <td>...</td>\n      <td>...</td>\n      <td>...</td>\n    </tr>\n    <tr>\n      <th>772</th>\n      <td>Worcester State College</td>\n      <td>No</td>\n      <td>2197</td>\n      <td>1515</td>\n      <td>543</td>\n      <td>4</td>\n      <td>26</td>\n      <td>3089</td>\n      <td>2029</td>\n      <td>6797</td>\n      <td>3900</td>\n      <td>500</td>\n      <td>1200</td>\n      <td>60</td>\n      <td>60</td>\n      <td>21.0</td>\n      <td>14</td>\n      <td>4469</td>\n      <td>40</td>\n    </tr>\n    <tr>\n      <th>773</th>\n      <td>Xavier University</td>\n      <td>Yes</td>\n      <td>1959</td>\n      <td>1805</td>\n      <td>695</td>\n      <td>24</td>\n      <td>47</td>\n      <td>2849</td>\n      <td>1107</td>\n      <td>11520</td>\n      <td>4960</td>\n      <td>600</td>\n      <td>1250</td>\n      <td>73</td>\n      <td>75</td>\n      <td>13.3</td>\n      <td>31</td>\n      <td>9189</td>\n      <td>83</td>\n    </tr>\n    <tr>\n      <th>774</th>\n      <td>Xavier University of Louisiana</td>\n      <td>Yes</td>\n      <td>2097</td>\n      <td>1915</td>\n      <td>695</td>\n      <td>34</td>\n      <td>61</td>\n      <td>2793</td>\n      <td>166</td>\n      <td>6900</td>\n      <td>4200</td>\n      <td>617</td>\n      <td>781</td>\n      <td>67</td>\n      <td>75</td>\n      <td>14.4</td>\n      <td>20</td>\n      <td>8323</td>\n      <td>49</td>\n    </tr>\n    <tr>\n      <th>775</th>\n      <td>Yale University</td>\n      <td>Yes</td>\n      <td>10705</td>\n      <td>2453</td>\n      <td>1317</td>\n      <td>95</td>\n      <td>99</td>\n      <td>5217</td>\n      <td>83</td>\n      <td>19840</td>\n      <td>6510</td>\n      <td>630</td>\n      <td>2115</td>\n      <td>96</td>\n      <td>96</td>\n      <td>5.8</td>\n      <td>49</td>\n      <td>40386</td>\n      <td>99</td>\n    </tr>\n    <tr>\n      <th>776</th>\n      <td>York College of Pennsylvania</td>\n      <td>Yes</td>\n      <td>2989</td>\n      <td>1855</td>\n      <td>691</td>\n      <td>28</td>\n      <td>63</td>\n      <td>2988</td>\n      <td>1726</td>\n      <td>4990</td>\n      <td>3560</td>\n      <td>500</td>\n      <td>1250</td>\n      <td>75</td>\n      <td>75</td>\n      <td>18.1</td>\n      <td>28</td>\n      <td>4509</td>\n      <td>99</td>\n    </tr>\n  </tbody>\n</table>\n<p>777 rows × 19 columns</p>\n</div>"
     },
     "execution_count": 11,
     "metadata": {},
     "output_type": "execute_result"
    }
   ],
   "source": [
    "college_data.loc[college_data[\"Apps\"].notna()]"
   ],
   "metadata": {
    "collapsed": false,
    "ExecuteTime": {
     "end_time": "2024-01-05T15:55:19.628602Z",
     "start_time": "2024-01-05T15:55:19.621161Z"
    }
   },
   "id": "98d0c24eb3a0733",
   "execution_count": 11
  },
  {
   "cell_type": "code",
   "outputs": [
    {
     "data": {
      "text/plain": "                         Unnamed: 0 Private   Apps  Accept  Enroll  Top10perc  \\\n0      Abilene Christian University     Yes   1660    1232     721         23   \n1                Adelphi University     Yes   2186    1924     512         16   \n2                    Adrian College     Yes   1428    1097     336         22   \n3               Agnes Scott College     Yes    417     349     137         60   \n4         Alaska Pacific University     Yes    193     146      55         16   \n..                              ...     ...    ...     ...     ...        ...   \n772         Worcester State College      No   2197    1515     543          4   \n773               Xavier University     Yes   1959    1805     695         24   \n774  Xavier University of Louisiana     Yes   2097    1915     695         34   \n775                 Yale University     Yes  10705    2453    1317         95   \n776    York College of Pennsylvania     Yes   2989    1855     691         28   \n\n     Top25perc  F.Undergrad  P.Undergrad  Outstate  Room.Board  Books  \\\n0           52         2885          537      7440        3300    450   \n1           29         2683         1227     12280        6450    750   \n2           50         1036           99     11250        3750    400   \n3           89          510           63     12960        5450    450   \n4           44          249          869      7560        4120    800   \n..         ...          ...          ...       ...         ...    ...   \n772         26         3089         2029      6797        3900    500   \n773         47         2849         1107     11520        4960    600   \n774         61         2793          166      6900        4200    617   \n775         99         5217           83     19840        6510    630   \n776         63         2988         1726      4990        3560    500   \n\n     Personal  PhD  Terminal  S.F.Ratio  perc.alumni  Expend  Grad.Rate  \n0        2200   70        78       18.1           12    7041         60  \n1        1500   29        30       12.2           16   10527         56  \n2        1165   53        66       12.9           30    8735         54  \n3         875   92        97        7.7           37   19016         59  \n4        1500   76        72       11.9            2   10922         15  \n..        ...  ...       ...        ...          ...     ...        ...  \n772      1200   60        60       21.0           14    4469         40  \n773      1250   73        75       13.3           31    9189         83  \n774       781   67        75       14.4           20    8323         49  \n775      2115   96        96        5.8           49   40386         99  \n776      1250   75        75       18.1           28    4509         99  \n\n[777 rows x 19 columns]",
      "text/html": "<div>\n<style scoped>\n    .dataframe tbody tr th:only-of-type {\n        vertical-align: middle;\n    }\n\n    .dataframe tbody tr th {\n        vertical-align: top;\n    }\n\n    .dataframe thead th {\n        text-align: right;\n    }\n</style>\n<table border=\"1\" class=\"dataframe\">\n  <thead>\n    <tr style=\"text-align: right;\">\n      <th></th>\n      <th>Unnamed: 0</th>\n      <th>Private</th>\n      <th>Apps</th>\n      <th>Accept</th>\n      <th>Enroll</th>\n      <th>Top10perc</th>\n      <th>Top25perc</th>\n      <th>F.Undergrad</th>\n      <th>P.Undergrad</th>\n      <th>Outstate</th>\n      <th>Room.Board</th>\n      <th>Books</th>\n      <th>Personal</th>\n      <th>PhD</th>\n      <th>Terminal</th>\n      <th>S.F.Ratio</th>\n      <th>perc.alumni</th>\n      <th>Expend</th>\n      <th>Grad.Rate</th>\n    </tr>\n  </thead>\n  <tbody>\n    <tr>\n      <th>0</th>\n      <td>Abilene Christian University</td>\n      <td>Yes</td>\n      <td>1660</td>\n      <td>1232</td>\n      <td>721</td>\n      <td>23</td>\n      <td>52</td>\n      <td>2885</td>\n      <td>537</td>\n      <td>7440</td>\n      <td>3300</td>\n      <td>450</td>\n      <td>2200</td>\n      <td>70</td>\n      <td>78</td>\n      <td>18.1</td>\n      <td>12</td>\n      <td>7041</td>\n      <td>60</td>\n    </tr>\n    <tr>\n      <th>1</th>\n      <td>Adelphi University</td>\n      <td>Yes</td>\n      <td>2186</td>\n      <td>1924</td>\n      <td>512</td>\n      <td>16</td>\n      <td>29</td>\n      <td>2683</td>\n      <td>1227</td>\n      <td>12280</td>\n      <td>6450</td>\n      <td>750</td>\n      <td>1500</td>\n      <td>29</td>\n      <td>30</td>\n      <td>12.2</td>\n      <td>16</td>\n      <td>10527</td>\n      <td>56</td>\n    </tr>\n    <tr>\n      <th>2</th>\n      <td>Adrian College</td>\n      <td>Yes</td>\n      <td>1428</td>\n      <td>1097</td>\n      <td>336</td>\n      <td>22</td>\n      <td>50</td>\n      <td>1036</td>\n      <td>99</td>\n      <td>11250</td>\n      <td>3750</td>\n      <td>400</td>\n      <td>1165</td>\n      <td>53</td>\n      <td>66</td>\n      <td>12.9</td>\n      <td>30</td>\n      <td>8735</td>\n      <td>54</td>\n    </tr>\n    <tr>\n      <th>3</th>\n      <td>Agnes Scott College</td>\n      <td>Yes</td>\n      <td>417</td>\n      <td>349</td>\n      <td>137</td>\n      <td>60</td>\n      <td>89</td>\n      <td>510</td>\n      <td>63</td>\n      <td>12960</td>\n      <td>5450</td>\n      <td>450</td>\n      <td>875</td>\n      <td>92</td>\n      <td>97</td>\n      <td>7.7</td>\n      <td>37</td>\n      <td>19016</td>\n      <td>59</td>\n    </tr>\n    <tr>\n      <th>4</th>\n      <td>Alaska Pacific University</td>\n      <td>Yes</td>\n      <td>193</td>\n      <td>146</td>\n      <td>55</td>\n      <td>16</td>\n      <td>44</td>\n      <td>249</td>\n      <td>869</td>\n      <td>7560</td>\n      <td>4120</td>\n      <td>800</td>\n      <td>1500</td>\n      <td>76</td>\n      <td>72</td>\n      <td>11.9</td>\n      <td>2</td>\n      <td>10922</td>\n      <td>15</td>\n    </tr>\n    <tr>\n      <th>...</th>\n      <td>...</td>\n      <td>...</td>\n      <td>...</td>\n      <td>...</td>\n      <td>...</td>\n      <td>...</td>\n      <td>...</td>\n      <td>...</td>\n      <td>...</td>\n      <td>...</td>\n      <td>...</td>\n      <td>...</td>\n      <td>...</td>\n      <td>...</td>\n      <td>...</td>\n      <td>...</td>\n      <td>...</td>\n      <td>...</td>\n      <td>...</td>\n    </tr>\n    <tr>\n      <th>772</th>\n      <td>Worcester State College</td>\n      <td>No</td>\n      <td>2197</td>\n      <td>1515</td>\n      <td>543</td>\n      <td>4</td>\n      <td>26</td>\n      <td>3089</td>\n      <td>2029</td>\n      <td>6797</td>\n      <td>3900</td>\n      <td>500</td>\n      <td>1200</td>\n      <td>60</td>\n      <td>60</td>\n      <td>21.0</td>\n      <td>14</td>\n      <td>4469</td>\n      <td>40</td>\n    </tr>\n    <tr>\n      <th>773</th>\n      <td>Xavier University</td>\n      <td>Yes</td>\n      <td>1959</td>\n      <td>1805</td>\n      <td>695</td>\n      <td>24</td>\n      <td>47</td>\n      <td>2849</td>\n      <td>1107</td>\n      <td>11520</td>\n      <td>4960</td>\n      <td>600</td>\n      <td>1250</td>\n      <td>73</td>\n      <td>75</td>\n      <td>13.3</td>\n      <td>31</td>\n      <td>9189</td>\n      <td>83</td>\n    </tr>\n    <tr>\n      <th>774</th>\n      <td>Xavier University of Louisiana</td>\n      <td>Yes</td>\n      <td>2097</td>\n      <td>1915</td>\n      <td>695</td>\n      <td>34</td>\n      <td>61</td>\n      <td>2793</td>\n      <td>166</td>\n      <td>6900</td>\n      <td>4200</td>\n      <td>617</td>\n      <td>781</td>\n      <td>67</td>\n      <td>75</td>\n      <td>14.4</td>\n      <td>20</td>\n      <td>8323</td>\n      <td>49</td>\n    </tr>\n    <tr>\n      <th>775</th>\n      <td>Yale University</td>\n      <td>Yes</td>\n      <td>10705</td>\n      <td>2453</td>\n      <td>1317</td>\n      <td>95</td>\n      <td>99</td>\n      <td>5217</td>\n      <td>83</td>\n      <td>19840</td>\n      <td>6510</td>\n      <td>630</td>\n      <td>2115</td>\n      <td>96</td>\n      <td>96</td>\n      <td>5.8</td>\n      <td>49</td>\n      <td>40386</td>\n      <td>99</td>\n    </tr>\n    <tr>\n      <th>776</th>\n      <td>York College of Pennsylvania</td>\n      <td>Yes</td>\n      <td>2989</td>\n      <td>1855</td>\n      <td>691</td>\n      <td>28</td>\n      <td>63</td>\n      <td>2988</td>\n      <td>1726</td>\n      <td>4990</td>\n      <td>3560</td>\n      <td>500</td>\n      <td>1250</td>\n      <td>75</td>\n      <td>75</td>\n      <td>18.1</td>\n      <td>28</td>\n      <td>4509</td>\n      <td>99</td>\n    </tr>\n  </tbody>\n</table>\n<p>777 rows × 19 columns</p>\n</div>"
     },
     "execution_count": 16,
     "metadata": {},
     "output_type": "execute_result"
    }
   ],
   "source": [
    "college_data.query(\"Apps.notna()\")"
   ],
   "metadata": {
    "collapsed": false,
    "ExecuteTime": {
     "end_time": "2024-01-05T16:10:52.779873Z",
     "start_time": "2024-01-05T16:10:52.772909Z"
    }
   },
   "id": "1158b865d4312685",
   "execution_count": 16
  },
  {
   "cell_type": "code",
   "outputs": [],
   "source": [
    "college_data: pd.DataFrame = (\n",
    "    college_data\n",
    "    .assign(\n",
    "        elite=lambda df_: pd.cut(\n",
    "            df_[\"Top10perc\"]\n",
    ", [0, 50, 100], labels=[\"no\", \"yes\"]        )\n",
    "    )\n",
    "    .loc[:,[\"Top10perc\", \"elite\"]]\n",
    ")"
   ],
   "metadata": {
    "collapsed": false,
    "ExecuteTime": {
     "end_time": "2024-01-02T22:16:51.539719Z",
     "start_time": "2024-01-02T22:16:51.525833Z"
    }
   },
   "id": "ea90c72835b27a46",
   "execution_count": 18
  },
  {
   "cell_type": "code",
   "outputs": [
    {
     "data": {
      "text/plain": "<Figure size 640x480 with 1 Axes>",
      "image/png": "[encoded data removed]"
     },
     "metadata": {},
     "output_type": "display_data"
    }
   ],
   "source": [
    "(college_data\n",
    " .elite.value_counts()\n",
    " .plot(kind=\"box\")\n",
    " )\n",
    "plt.show()"
   ],
   "metadata": {
    "collapsed": false,
    "ExecuteTime": {
     "end_time": "2024-01-02T22:25:21.742292Z",
     "start_time": "2024-01-02T22:25:21.711110Z"
    }
   },
   "id": "4e52bd6f362f0e18",
   "execution_count": 24
  },
  {
   "cell_type": "code",
   "outputs": [],
   "source": [],
   "metadata": {
    "collapsed": false
   },
   "id": "b33a9d6c55dedfc1"
  }
 ],
 "metadata": {
  "kernelspec": {
   "display_name": "Python 3",
   "language": "python",
   "name": "python3"
  },
  "language_info": {
   "codemirror_mode": {
    "name": "ipython",
    "version": 2
   },
   "file_extension": ".py",
   "mimetype": "text/x-python",
   "name": "python",
   "nbconvert_exporter": "python",
   "pygments_lexer": "ipython2",
   "version": "2.7.6"
  }
 },
 "nbformat": 4,
 "nbformat_minor": 5
}
